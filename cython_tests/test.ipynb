{
 "cells": [
  {
   "cell_type": "code",
   "execution_count": 1,
   "metadata": {},
   "outputs": [
    {
     "data": {
      "text/plain": [
       "(None, <pyximport._pyximport3.PyxImportMetaFinder at 0x10572eb10>)"
      ]
     },
     "execution_count": 1,
     "metadata": {},
     "output_type": "execute_result"
    }
   ],
   "source": [
    "import numpy as np\n",
    "import pyximport\n",
    "pyximport.install(setup_args = {\"include_dirs\":np.get_include()})"
   ]
  },
  {
   "cell_type": "code",
   "execution_count": 2,
   "metadata": {},
   "outputs": [],
   "source": [
    "\n",
    "import cyth_test\n"
   ]
  },
  {
   "cell_type": "code",
   "execution_count": 3,
   "metadata": {},
   "outputs": [],
   "source": [
    "numbers = 500.0 * np.random.rand(100000)\n"
   ]
  },
  {
   "cell_type": "code",
   "execution_count": 4,
   "metadata": {},
   "outputs": [
    {
     "name": "stdout",
     "output_type": "stream",
     "text": [
      "32.8 μs ± 96.3 ns per loop (mean ± std. dev. of 7 runs, 10,000 loops each)\n"
     ]
    }
   ],
   "source": [
    "timeit(cyth_test.calculate_roots(numbers))"
   ]
  },
  {
   "cell_type": "code",
   "execution_count": 9,
   "metadata": {},
   "outputs": [
    {
     "data": {
      "text/plain": [
       "array([[ 0.,  1.,  2.,  3.],\n",
       "       [ 4.,  5.,  6.,  7.],\n",
       "       [ 8.,  9., 10., 11.],\n",
       "       [12., 13., 14., 15.]])"
      ]
     },
     "execution_count": 9,
     "metadata": {},
     "output_type": "execute_result"
    }
   ],
   "source": [
    "grid = np.arange(16.0).reshape(4,4)\n",
    "grid"
   ]
  },
  {
   "cell_type": "code",
   "execution_count": 10,
   "metadata": {},
   "outputs": [
    {
     "data": {
      "text/plain": [
       "np.float64(0.2660379480841587)"
      ]
     },
     "execution_count": 10,
     "metadata": {},
     "output_type": "execute_result"
    }
   ],
   "source": [
    "cyth_test.get_order(grid, 4)"
   ]
  },
  {
   "cell_type": "code",
   "execution_count": null,
   "metadata": {},
   "outputs": [],
   "source": []
  },
  {
   "cell_type": "code",
   "execution_count": 2,
   "metadata": {},
   "outputs": [
    {
     "name": "stderr",
     "output_type": "stream",
     "text": [
      "/Users/sebparkin/miniconda3/lib/python3.12/site-packages/Cython/Compiler/Main.py:381: FutureWarning: Cython directive 'language_level' not set, using '3str' for now (Py3). This has changed from earlier releases! File: /Users/sebparkin/Documents/University/Software Engineering and HPC/Project1/cython_tests/LebwohlLasher_cython.pyx\n",
      "  tree = Parsing.p_module(s, pxd, full_module_name)\n",
      "warning: LebwohlLasher_cython.pyx:219:51: Use boundscheck(False) for faster access\n",
      "warning: LebwohlLasher_cython.pyx:219:67: Use boundscheck(False) for faster access\n",
      "warning: LebwohlLasher_cython.pyx:219:87: Use boundscheck(False) for faster access\n",
      "warning: LebwohlLasher_cython.pyx:219:32: Use boundscheck(False) for faster access\n",
      "In file included from /Users/sebparkin/.pyxbld/temp.macosx-11.0-arm64-cpython-312/Users/sebparkin/Documents/University/Software Engineering and HPC/Project1/cython_tests/LebwohlLasher_cython.c:1240:\n",
      "In file included from /Users/sebparkin/miniconda3/lib/python3.12/site-packages/numpy/_core/include/numpy/arrayobject.h:5:\n",
      "In file included from /Users/sebparkin/miniconda3/lib/python3.12/site-packages/numpy/_core/include/numpy/ndarrayobject.h:12:\n",
      "In file included from /Users/sebparkin/miniconda3/lib/python3.12/site-packages/numpy/_core/include/numpy/ndarraytypes.h:1909:\n",
      "/Users/sebparkin/miniconda3/lib/python3.12/site-packages/numpy/_core/include/numpy/npy_1_7_deprecated_api.h:17:2: warning: \"Using deprecated NumPy API, disable it with \"          \"#define NPY_NO_DEPRECATED_API NPY_1_7_API_VERSION\" [-W#warnings]\n",
      "   17 | #warning \"Using deprecated NumPy API, disable it with \" \\\n",
      "      |  ^\n",
      "1 warning generated.\n",
      "ld: warning: duplicate -rpath '/Users/sebparkin/miniconda3/lib' ignored\n"
     ]
    }
   ],
   "source": [
    "import LebwohlLasher_cython"
   ]
  },
  {
   "cell_type": "code",
   "execution_count": 3,
   "metadata": {},
   "outputs": [
    {
     "ename": "ValueError",
     "evalue": "Buffer dtype mismatch, expected 'int' but got 'long'",
     "output_type": "error",
     "traceback": [
      "\u001b[0;31m---------------------------------------------------------------------------\u001b[0m",
      "\u001b[0;31mValueError\u001b[0m                                Traceback (most recent call last)",
      "Cell \u001b[0;32mIn[3], line 1\u001b[0m\n\u001b[0;32m----> 1\u001b[0m \u001b[43mLebwohlLasher_cython\u001b[49m\u001b[38;5;241;43m.\u001b[39;49m\u001b[43mmain\u001b[49m\u001b[43m(\u001b[49m\u001b[38;5;124;43m'\u001b[39;49m\u001b[38;5;124;43mLebwohlLasher_cython\u001b[39;49m\u001b[38;5;124;43m'\u001b[39;49m\u001b[43m,\u001b[49m\u001b[43m \u001b[49m\u001b[38;5;241;43m50\u001b[39;49m\u001b[43m,\u001b[49m\u001b[43m \u001b[49m\u001b[38;5;241;43m50\u001b[39;49m\u001b[43m,\u001b[49m\u001b[43m \u001b[49m\u001b[38;5;241;43m0.5\u001b[39;49m\u001b[43m,\u001b[49m\u001b[43m \u001b[49m\u001b[38;5;241;43m0\u001b[39;49m\u001b[43m)\u001b[49m\n",
      "File \u001b[0;32m~/Documents/University/Software Engineering and HPC/Project1/cython_tests/LebwohlLasher_cython.pyx:319\u001b[0m, in \u001b[0;36mLebwohlLasher_cython.main\u001b[0;34m()\u001b[0m\n\u001b[1;32m    317\u001b[0m cdef double initial = time.time()\n\u001b[1;32m    318\u001b[0m for it in range(1,nsteps+1):\n\u001b[0;32m--> 319\u001b[0m     ratio_view[it] = MC_step(lattice_view,temp,nmax)\n\u001b[1;32m    320\u001b[0m     energy_view[it] = all_energy(lattice_view,nmax)\n\u001b[1;32m    321\u001b[0m     order_view[it] = get_order(lattice_view,nmax)\n",
      "File \u001b[0;32m~/Documents/University/Software Engineering and HPC/Project1/cython_tests/LebwohlLasher_cython.pyx:250\u001b[0m, in \u001b[0;36mLebwohlLasher_cython.MC_step\u001b[0;34m()\u001b[0m\n\u001b[1;32m    248\u001b[0m yran = np.random.randint(0,high=nmax, size=(nmax,nmax))\n\u001b[1;32m    249\u001b[0m aran = np.random.normal(scale=scale, size=(nmax,nmax))\n\u001b[0;32m--> 250\u001b[0m cdef int[:,:] xran_view = xran\n\u001b[1;32m    251\u001b[0m cdef int[:,:] yran_view = yran\n\u001b[1;32m    252\u001b[0m cdef double[:,:] aran_view = aran\n",
      "\u001b[0;31mValueError\u001b[0m: Buffer dtype mismatch, expected 'int' but got 'long'"
     ]
    }
   ],
   "source": [
    "LebwohlLasher_cython.main('LebwohlLasher_cython', 50, 50, 0.5, 0)"
   ]
  },
  {
   "cell_type": "code",
   "execution_count": null,
   "metadata": {},
   "outputs": [],
   "source": []
  }
 ],
 "metadata": {
  "kernelspec": {
   "display_name": "base",
   "language": "python",
   "name": "python3"
  },
  "language_info": {
   "codemirror_mode": {
    "name": "ipython",
    "version": 3
   },
   "file_extension": ".py",
   "mimetype": "text/x-python",
   "name": "python",
   "nbconvert_exporter": "python",
   "pygments_lexer": "ipython3",
   "version": "3.12.2"
  }
 },
 "nbformat": 4,
 "nbformat_minor": 2
}

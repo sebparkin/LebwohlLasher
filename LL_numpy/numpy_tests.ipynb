{
 "cells": [
  {
   "cell_type": "code",
   "execution_count": 584,
   "metadata": {},
   "outputs": [],
   "source": [
    "import numpy as np\n",
    "\n",
    "nmax = 4\n",
    "arr = np.arange(nmax*nmax, dtype=np.float64).reshape(nmax, nmax)\n",
    "\n"
   ]
  },
  {
   "cell_type": "code",
   "execution_count": 585,
   "metadata": {},
   "outputs": [],
   "source": [
    "def one_energy_fast(arr,ix,iy,nmax):\n",
    "    \n",
    "    ixp = (ix+1)%nmax # These are the coordinates\n",
    "    ixm = (ix-1)%nmax # of the neighbours\n",
    "    iyp = (iy+1)%nmax # with wraparound\n",
    "    iym = (iy-1)%nmax #\n",
    "\n",
    "    xy_arr = np.array([arr[ixp,iy], arr[ixm,iy], arr[ix,iyp], arr[ix,iym]])\n",
    "    ang = arr[ix, iy] - xy_arr\n",
    "    en = np.sum(0.5*(1.0 - 3.0*np.pow(np.cos(ang),2)))\n",
    "    return en\n",
    "\n",
    "#\n",
    "# Add together the 4 neighbour contributions\n",
    "# to the energy\n",
    "#\n",
    "'''\n",
    "    ang = arr[ix,iy]-arr[ixp,iy]\n",
    "    en += 0.5*(1.0 - 3.0*np.cos(ang)**2)\n",
    "    ang = arr[ix,iy]-arr[ixm,iy]\n",
    "    en += 0.5*(1.0 - 3.0*np.cos(ang)**2)\n",
    "    ang = arr[ix,iy]-arr[ix,iyp]\n",
    "    en += 0.5*(1.0 - 3.0*np.cos(ang)**2)\n",
    "    ang = arr[ix,iy]-arr[ix,iym]\n",
    "    en += 0.5*(1.0 - 3.0*np.cos(ang)**2)\n",
    "\n",
    "    return en\n",
    "'''\n",
    "\n",
    "def one_energy(arr,ix,iy,nmax):\n",
    "\n",
    "    en = 0.0\n",
    "    ixp = (ix+1)%nmax # These are the coordinates\n",
    "    ixm = (ix-1)%nmax # of the neighbours\n",
    "    iyp = (iy+1)%nmax # with wraparound\n",
    "    iym = (iy-1)%nmax #\n",
    "\n",
    "    '''\n",
    "    xy_arr = np.array([arr[ixp,iy], arr[ixm,iy], arr[ixm,iy], arr[ix,iym]])\n",
    "    en = 0.5*(1.0 - 3.0*np.cos(arr[ix, iy] - xy_arr)**2)\n",
    "    return np.sum(en)\n",
    "    '''\n",
    "#\n",
    "# Add together the 4 neighbour contributions\n",
    "# to the energy\n",
    "#\n",
    "\n",
    "    ang = arr[ix,iy]-arr[ixp,iy]\n",
    "    en += 0.5*(1.0 - 3.0*np.cos(ang)**2)\n",
    "    ang = arr[ix,iy]-arr[ixm,iy]\n",
    "    en += 0.5*(1.0 - 3.0*np.cos(ang)**2)\n",
    "    ang = arr[ix,iy]-arr[ix,iyp]\n",
    "    en += 0.5*(1.0 - 3.0*np.cos(ang)**2)\n",
    "    ang = arr[ix,iy]-arr[ix,iym]\n",
    "    en += 0.5*(1.0 - 3.0*np.cos(ang)**2)\n",
    "\n",
    "    return en\n"
   ]
  },
  {
   "cell_type": "code",
   "execution_count": 588,
   "metadata": {},
   "outputs": [],
   "source": [
    "ran = np.random.randint(0,nmax, size = 2)\n"
   ]
  },
  {
   "cell_type": "code",
   "execution_count": 589,
   "metadata": {},
   "outputs": [
    {
     "name": "stdout",
     "output_type": "stream",
     "text": [
      "3.51 μs ± 137 ns per loop (mean ± std. dev. of 7 runs, 100,000 loops each)\n"
     ]
    }
   ],
   "source": [
    "timeit(one_energy(arr, ran[0], ran[1], nmax))"
   ]
  },
  {
   "cell_type": "code",
   "execution_count": 590,
   "metadata": {},
   "outputs": [
    {
     "name": "stdout",
     "output_type": "stream",
     "text": [
      "5.2 μs ± 144 ns per loop (mean ± std. dev. of 7 runs, 100,000 loops each)\n"
     ]
    }
   ],
   "source": [
    "timeit(one_energy_fast(arr, ran[0], ran[1], nmax))"
   ]
  },
  {
   "cell_type": "code",
   "execution_count": null,
   "metadata": {},
   "outputs": [
    {
     "data": {
      "text/plain": [
       "np.float64(-0.15752969446636644)"
      ]
     },
     "execution_count": 591,
     "metadata": {},
     "output_type": "execute_result"
    }
   ],
   "source": [
    "#my 'fast' numpy version actually ended up being slower\n",
    "one_energy_fast(arr, ran[0], ran[1], nmax)"
   ]
  },
  {
   "cell_type": "code",
   "execution_count": 592,
   "metadata": {},
   "outputs": [
    {
     "data": {
      "text/plain": [
       "np.float64(-0.15752969446636644)"
      ]
     },
     "execution_count": 592,
     "metadata": {},
     "output_type": "execute_result"
    }
   ],
   "source": [
    "one_energy(arr, ran[0], ran[1], nmax)"
   ]
  },
  {
   "cell_type": "code",
   "execution_count": 594,
   "metadata": {},
   "outputs": [],
   "source": [
    "grid = np.mgrid[0:nmax,0:nmax].reshape(2,-1).T\n",
    "\n",
    "def Qab_slow():\n",
    "    Qab = np.zeros((3,3))\n",
    "    delta = np.eye(3,3)\n",
    "    #\n",
    "    # Generate a 3D unit vector for each cell (i,j) and\n",
    "    # put it in a (3,i,j) array.\n",
    "    #\n",
    "    lab = np.vstack((np.cos(arr),np.sin(arr),np.zeros_like(arr))).reshape(3,nmax,nmax)\n",
    "    for a in range(3):\n",
    "        for b in range(3):\n",
    "            for i, j in grid:\n",
    "                    Qab[a,b] += 3*lab[a,i,j]*lab[b,i,j] - delta[a,b]\n",
    "\n",
    "    #print(Qab)\n",
    "\n"
   ]
  },
  {
   "cell_type": "code",
   "execution_count": 598,
   "metadata": {},
   "outputs": [],
   "source": [
    "def Qab_fast():\n",
    "    lab = np.vstack((np.cos(arr),np.sin(arr),np.zeros_like(arr))).reshape(3,nmax,nmax)\n",
    "    labmult = np.zeros([3, 3])\n",
    "    delta = np.eye(3,3)\n",
    "    for a in range(3):\n",
    "        for b in range(3):\n",
    "            labmult[a,b] += np.sum(3*lab[a,:,:]*lab[b,:,:] - delta[a,b])\n",
    "\n",
    "    #print(labmult)\n",
    "\n",
    "#This version is far faster than the loop version"
   ]
  },
  {
   "cell_type": "code",
   "execution_count": 596,
   "metadata": {},
   "outputs": [
    {
     "name": "stdout",
     "output_type": "stream",
     "text": [
      "142 μs ± 2.04 μs per loop (mean ± std. dev. of 7 runs, 10,000 loops each)\n"
     ]
    }
   ],
   "source": [
    "timeit(Qab_slow())"
   ]
  },
  {
   "cell_type": "code",
   "execution_count": 597,
   "metadata": {},
   "outputs": [
    {
     "name": "stdout",
     "output_type": "stream",
     "text": [
      "35.2 μs ± 500 ns per loop (mean ± std. dev. of 7 runs, 10,000 loops each)\n"
     ]
    }
   ],
   "source": [
    "timeit(Qab_fast())"
   ]
  },
  {
   "cell_type": "code",
   "execution_count": null,
   "metadata": {},
   "outputs": [],
   "source": [
    "def all_energy_slow(arr,nmax):\n",
    "    \"\"\"\n",
    "    Arguments:\n",
    "\t  arr (float(nmax,nmax)) = array that contains lattice data;\n",
    "      nmax (int) = side length of square lattice.\n",
    "    Description:\n",
    "      Function to compute the energy of the entire lattice. Output\n",
    "      is in reduced units (U/epsilon).\n",
    "\tReturns:\n",
    "\t  enall (float) = reduced energy of lattice.\n",
    "    \"\"\"\n",
    "    enall = 0.0\n",
    "    for i in range(nmax):\n",
    "        for j in range(nmax):\n",
    "            enall += one_energy(arr,i,j,nmax)\n",
    "    return enall\n"
   ]
  },
  {
   "cell_type": "code",
   "execution_count": null,
   "metadata": {},
   "outputs": [],
   "source": [
    "def all_energy_fast(arr,nmax, grid):\n",
    "    \"\"\"\n",
    "    Arguments:\n",
    "\t  arr (float(nmax,nmax)) = array that contains lattice data;\n",
    "      nmax (int) = side length of square lattice.\n",
    "    Description:\n",
    "      Function to compute the energy of the entire lattice. Output\n",
    "      is in reduced units (U/epsilon).\n",
    "\tReturns:\n",
    "\t  enall (float) = reduced energy of lattice.\n",
    "    \"\"\"\n",
    "    enall = np.sum(one_energy(arr, grid[:,0], grid[:,1], nmax))\n",
    "    return enall\n",
    "\n",
    "#faster with no loops"
   ]
  },
  {
   "cell_type": "code",
   "execution_count": 582,
   "metadata": {},
   "outputs": [
    {
     "data": {
      "text/plain": [
       "np.float64(-19.052271888752816)"
      ]
     },
     "execution_count": 582,
     "metadata": {},
     "output_type": "execute_result"
    }
   ],
   "source": [
    "all_energy_slow(arr, nmax)"
   ]
  },
  {
   "cell_type": "code",
   "execution_count": 583,
   "metadata": {},
   "outputs": [
    {
     "data": {
      "text/plain": [
       "np.float64(-19.052271888752813)"
      ]
     },
     "execution_count": 583,
     "metadata": {},
     "output_type": "execute_result"
    }
   ],
   "source": [
    "all_energy_fast(arr,nmax,grid)"
   ]
  },
  {
   "cell_type": "code",
   "execution_count": 599,
   "metadata": {},
   "outputs": [
    {
     "name": "stdout",
     "output_type": "stream",
     "text": [
      "52.8 μs ± 2.7 μs per loop (mean ± std. dev. of 7 runs, 10,000 loops each)\n"
     ]
    }
   ],
   "source": [
    "timeit(all_energy_slow(arr, nmax))"
   ]
  },
  {
   "cell_type": "code",
   "execution_count": 600,
   "metadata": {},
   "outputs": [
    {
     "name": "stdout",
     "output_type": "stream",
     "text": [
      "21.5 μs ± 494 ns per loop (mean ± std. dev. of 7 runs, 10,000 loops each)\n"
     ]
    }
   ],
   "source": [
    "timeit(all_energy_fast(arr,nmax,grid))"
   ]
  },
  {
   "cell_type": "code",
   "execution_count": 522,
   "metadata": {},
   "outputs": [],
   "source": [
    "def MC_step(arr, nmax):\n",
    "\n",
    "    accept = 0\n",
    "    \n",
    "    xran = np.random.randint(0,high=nmax, size=(nmax,nmax))\n",
    "    yran = np.random.randint(0,high=nmax, size=(nmax,nmax))\n",
    "    #aran = np.random.normal(scale=0.6, size=(nmax,nmax))\n",
    "    for ix, iy in grid:\n",
    "        ang = aran[ix,iy]\n",
    "        en0 = one_energy(arr,ix,iy,nmax)\n",
    "        arr[ix,iy] += ang\n",
    "        en1 = one_energy(arr,ix,iy,nmax)\n",
    "        if en1<=en0:\n",
    "            accept += 1\n",
    "        else:\n",
    "        # Now apply the Monte Carlo test - compare\n",
    "        # exp( -(E_new - E_old) / T* ) >= rand(0,1)\n",
    "            boltz = np.exp( -(en1 - en0) / 0.5 )\n",
    "\n",
    "            if boltz >= np.random.uniform(0.5, 0.5):\n",
    "                accept += 1\n",
    "            else:\n",
    "                arr[ix,iy] -= ang\n",
    "\n",
    "    print(arr)\n",
    "    return accept/(nmax*nmax)"
   ]
  },
  {
   "cell_type": "code",
   "execution_count": null,
   "metadata": {},
   "outputs": [],
   "source": [
    "\n",
    "\n",
    "def MC_step_fast(arr, nmax):\n",
    "    checkerboard = np.indices([nmax, nmax]).sum(axis=0) % 2\n",
    "    #aran = np.random.normal(scale=0.6, size=(nmax,nmax))\n",
    "    boltz = np.random.uniform(0.0,1.0, size=(nmax,nmax))\n",
    "    accept = 0.0\n",
    "\n",
    "    #loops over the two halves of the checkerboard\n",
    "    for i in range(2):\n",
    "        \n",
    "        arr_copy = arr.copy()\n",
    "\n",
    "        en0 = one_energy(arr, grid[:,0], grid[:,1], nmax)\n",
    "        #only adds the random angle to half the lattice\n",
    "        arr[checkerboard == i] += aran[checkerboard == i]\n",
    "        en1 = one_energy(arr, grid[:,0], grid[:,1], nmax)\n",
    "        #adds one for each energy below the previous energy\n",
    "\n",
    "        #creates new energies for the checkerboard\n",
    "        en0_checker = en0.reshape(nmax, nmax)[checkerboard == i]\n",
    "        en1_checker = en1.reshape(nmax, nmax)[checkerboard == i]\n",
    "        accept += np.sum(en1_checker <= en0_checker)\n",
    "        \n",
    "        #calculates boltz and compares it to a random number\n",
    "        boltz = np.exp(-(en1_checker[en1_checker>en0_checker] - en0_checker[en1_checker>en0_checker]) / 0.5)\n",
    "        boltz_rand = np.random.uniform(0.5, 0.5, size=np.shape(boltz))\n",
    "        accept += np.sum(boltz >= boltz_rand)\n",
    "\n",
    "        #creates the index for values that need to be changed back\n",
    "        index = np.where(checkerboard.reshape(nmax*nmax) == 0)[0][np.where(en1_checker>en0_checker)[0][np.where(boltz<boltz_rand)[0]]]\n",
    "        print(index)\n",
    "    \n",
    "        #changes values back, and changes all values that arent part of the half checkerboard\n",
    "        arr.reshape(nmax**2)[index] -= aran.reshape(nmax**2)[index]\n",
    "        arr[checkerboard == (i+1)%2] = arr_copy[checkerboard == (i+1)%2]\n",
    "\n",
    "    print(arr)\n",
    "    return accept/(nmax*nmax)\n",
    "\n",
    "\n",
    "\n"
   ]
  },
  {
   "cell_type": "code",
   "execution_count": 571,
   "metadata": {},
   "outputs": [],
   "source": [
    "grid = np.mgrid[0:nmax,0:nmax].reshape(2,-1).T\n",
    "aran = np.random.normal(scale=0.6, size=(nmax,nmax))"
   ]
  },
  {
   "cell_type": "code",
   "execution_count": 576,
   "metadata": {},
   "outputs": [
    {
     "name": "stdout",
     "output_type": "stream",
     "text": [
      "[[ 0.          0.37757307  2.07639341  2.91397991]\n",
      " [ 3.80301033  5.50512098  6.14992847  6.53662925]\n",
      " [ 8.52331322  8.88431054  9.85207715 10.76698409]\n",
      " [12.10499102 13.19820401 13.57759592 14.63306389]]\n"
     ]
    },
    {
     "data": {
      "text/plain": [
       "0.9375"
      ]
     },
     "execution_count": 576,
     "metadata": {},
     "output_type": "execute_result"
    }
   ],
   "source": [
    "arr = np.arange(nmax*nmax, dtype = np.float64).reshape(nmax, nmax)\n",
    "MC_step(arr, nmax)"
   ]
  },
  {
   "cell_type": "code",
   "execution_count": 577,
   "metadata": {},
   "outputs": [
    {
     "name": "stdout",
     "output_type": "stream",
     "text": [
      "[0]\n",
      "[]\n",
      "[[ 0.          0.37757307  2.07639341  2.91397991]\n",
      " [ 3.80301033  5.50512098  6.14992847  6.53662925]\n",
      " [ 8.52331322  8.88431054  9.85207715 10.76698409]\n",
      " [12.10499102 13.19820401 13.57759592 14.63306389]]\n"
     ]
    },
    {
     "data": {
      "text/plain": [
       "np.float64(0.9375)"
      ]
     },
     "execution_count": 577,
     "metadata": {},
     "output_type": "execute_result"
    }
   ],
   "source": [
    "arr = np.arange(nmax*nmax, dtype = np.float64).reshape(nmax, nmax)\n",
    "MC_step_fast(arr,nmax)"
   ]
  },
  {
   "cell_type": "code",
   "execution_count": 469,
   "metadata": {},
   "outputs": [
    {
     "name": "stdout",
     "output_type": "stream",
     "text": [
      "241 μs ± 1.2 μs per loop (mean ± std. dev. of 7 runs, 1,000 loops each)\n"
     ]
    }
   ],
   "source": [
    "timeit(MC_step_fast(arr, nmax))"
   ]
  },
  {
   "cell_type": "code",
   "execution_count": null,
   "metadata": {},
   "outputs": [
    {
     "name": "stdout",
     "output_type": "stream",
     "text": [
      "[[ 0.  1.  2.  3.]\n",
      " [ 4.  5.  6.  7.]\n",
      " [ 8.  9. 10. 11.]\n",
      " [12. 13. 14. 15.]]\n",
      "[[ 0.15557532  1.          2.18130094  3.        ]\n",
      " [ 4.          4.18138414  6.          6.77914981]\n",
      " [ 8.13533018  9.         11.35844165 11.        ]\n",
      " [12.         12.60666133 14.         15.03950652]]\n",
      "[]\n",
      "[[ 0.15557532  1.          2.18130094  3.        ]\n",
      " [ 4.          4.18138414  6.          6.77914981]\n",
      " [ 8.13533018  9.         11.35844165 11.        ]\n",
      " [12.         12.60666133 14.         15.03950652]]\n",
      "[[ 0.15557532  1.          2.18130094  3.        ]\n",
      " [ 4.          4.18138414  6.          6.77914981]\n",
      " [ 8.13533018  9.         11.35844165 11.        ]\n",
      " [12.         12.60666133 14.         15.03950652]]\n",
      "23\n"
     ]
    }
   ],
   "source": [
    "\n",
    "\n",
    "#My workings to get to my solution\n",
    "\n",
    "arr = np.arange(nmax*nmax, dtype = np.float64).reshape(nmax, nmax)\n",
    "arr_orig = arr.copy()\n",
    "print(arr)\n",
    "accept = 0\n",
    "en0 = one_energy(arr, grid[:,0], grid[:,1], nmax)\n",
    "arr[checkerboard == 0] += aran[checkerboard == 0]\n",
    "print(arr)\n",
    "en1 = one_energy(arr, grid[:,0], grid[:,1], nmax)\n",
    "\n",
    "en0_checker = en0.reshape(nmax, nmax)[checkerboard == 0]\n",
    "en1_checker = en1.reshape(nmax, nmax)[checkerboard == 0]\n",
    "#print(en0, en0_checker)\n",
    "accept += np.sum(en1_checker <= en0_checker)\n",
    "\n",
    "#adds except for every value of en1 that is smaller than en0\n",
    "accept += np.sum(en1 <= en0)\n",
    "\n",
    "\n",
    "boltz_indices = np.where(en1>en0)\n",
    "boltz = np.exp(-(en1[en1>en0] - en0[en1>en0]) / 0.5)\n",
    "boltz_rand = np.random.uniform(0.0, 1.0, size=np.shape(boltz))\n",
    "accept += np.sum(boltz >= boltz_rand)\n",
    "bolts_indices2 = np.where(boltz<boltz_rand)\n",
    "print(boltz_indices[0][bolts_indices2[0]])\n",
    "tot_indices = boltz_indices[0][bolts_indices2[0]]\n",
    "\n",
    "\n",
    "#arr_flat = arr.reshape(nmax**2)\n",
    "#aran_flat = aran.reshape(nmax**2)\n",
    "#arr_flat[tot_indices] -= aran_flat[tot_indices]\n",
    "#print(arr_flat.reshape(nmax,nmax))\n",
    "#arr = arr_flat.reshape(nmax, nmax)\n",
    "print(arr)\n",
    "arr[checkerboard == 0][tot_indices] -= aran[checkerboard == 0][tot_indices]\n",
    "#arr[checkerboard == 1] = arr_orig[checkerboard == 1]\n",
    "#arr[boltz_indices][bolts_indices2] - aran[boltz_indices][bolts_indices2]\n",
    "print(arr)\n",
    "print(accept)"
   ]
  }
 ],
 "metadata": {
  "kernelspec": {
   "display_name": "base",
   "language": "python",
   "name": "python3"
  },
  "language_info": {
   "codemirror_mode": {
    "name": "ipython",
    "version": 3
   },
   "file_extension": ".py",
   "mimetype": "text/x-python",
   "name": "python",
   "nbconvert_exporter": "python",
   "pygments_lexer": "ipython3",
   "version": "3.12.2"
  }
 },
 "nbformat": 4,
 "nbformat_minor": 2
}

{
 "cells": [
  {
   "cell_type": "code",
   "execution_count": 1,
   "metadata": {},
   "outputs": [
    {
     "data": {
      "text/plain": [
       "(None, <pyximport._pyximport3.PyxImportMetaFinder at 0x10c167860>)"
      ]
     },
     "execution_count": 1,
     "metadata": {},
     "output_type": "execute_result"
    }
   ],
   "source": [
    "import numpy as np\n",
    "import pyximport\n",
    "pyximport.install(setup_args = {\"include_dirs\":np.get_include()})"
   ]
  },
  {
   "cell_type": "code",
   "execution_count": 4,
   "metadata": {},
   "outputs": [
    {
     "name": "stderr",
     "output_type": "stream",
     "text": [
      "In file included from /Users/sebparkin/.pyxbld/temp.macosx-11.0-arm64-cpython-312/Users/sebparkin/Documents/University/Software Engineering and HPC/Project1/cython_tests/cyth_test.c:1241:\n",
      "In file included from /Users/sebparkin/miniconda3/lib/python3.12/site-packages/numpy/_core/include/numpy/arrayobject.h:5:\n",
      "In file included from /Users/sebparkin/miniconda3/lib/python3.12/site-packages/numpy/_core/include/numpy/ndarrayobject.h:12:\n",
      "In file included from /Users/sebparkin/miniconda3/lib/python3.12/site-packages/numpy/_core/include/numpy/ndarraytypes.h:1909:\n",
      "/Users/sebparkin/miniconda3/lib/python3.12/site-packages/numpy/_core/include/numpy/npy_1_7_deprecated_api.h:17:2: warning: \"Using deprecated NumPy API, disable it with \"          \"#define NPY_NO_DEPRECATED_API NPY_1_7_API_VERSION\" [-W#warnings]\n",
      "   17 | #warning \"Using deprecated NumPy API, disable it with \" \\\n",
      "      |  ^\n",
      "1 warning generated.\n",
      "ld: warning: duplicate -rpath '/Users/sebparkin/miniconda3/lib' ignored\n"
     ]
    }
   ],
   "source": [
    "\n",
    "import cyth_test\n"
   ]
  },
  {
   "cell_type": "code",
   "execution_count": 3,
   "metadata": {},
   "outputs": [],
   "source": [
    "numbers = 500.0 * np.random.rand(100000)\n"
   ]
  },
  {
   "cell_type": "code",
   "execution_count": 4,
   "metadata": {},
   "outputs": [
    {
     "name": "stdout",
     "output_type": "stream",
     "text": [
      "32.8 μs ± 96.3 ns per loop (mean ± std. dev. of 7 runs, 10,000 loops each)\n"
     ]
    }
   ],
   "source": [
    "timeit(cyth_test.calculate_roots(numbers))"
   ]
  },
  {
   "cell_type": "code",
   "execution_count": 9,
   "metadata": {},
   "outputs": [
    {
     "data": {
      "text/plain": [
       "array([[ 0.,  1.,  2.,  3.],\n",
       "       [ 4.,  5.,  6.,  7.],\n",
       "       [ 8.,  9., 10., 11.],\n",
       "       [12., 13., 14., 15.]])"
      ]
     },
     "execution_count": 9,
     "metadata": {},
     "output_type": "execute_result"
    }
   ],
   "source": [
    "grid = np.arange(16.0).reshape(4,4)\n",
    "grid"
   ]
  },
  {
   "cell_type": "code",
   "execution_count": 10,
   "metadata": {},
   "outputs": [
    {
     "data": {
      "text/plain": [
       "np.float64(0.2660379480841587)"
      ]
     },
     "execution_count": 10,
     "metadata": {},
     "output_type": "execute_result"
    }
   ],
   "source": [
    "cyth_test.get_order(grid, 4)"
   ]
  },
  {
   "cell_type": "code",
   "execution_count": 2,
   "metadata": {},
   "outputs": [
    {
     "name": "stderr",
     "output_type": "stream",
     "text": [
      "/Users/sebparkin/miniconda3/lib/python3.12/site-packages/Cython/Compiler/Main.py:381: FutureWarning: Cython directive 'language_level' not set, using '3str' for now (Py3). This has changed from earlier releases! File: /Users/sebparkin/Documents/University/Software Engineering and HPC/Project1/cython_tests/LebwohlLasher_cython.pyx\n",
      "  tree = Parsing.p_module(s, pxd, full_module_name)\n",
      "In file included from /Users/sebparkin/.pyxbld/temp.macosx-11.0-arm64-cpython-312/Users/sebparkin/Documents/University/Software Engineering and HPC/Project1/cython_tests/LebwohlLasher_cython.c:1240:\n",
      "In file included from /Users/sebparkin/miniconda3/lib/python3.12/site-packages/numpy/_core/include/numpy/arrayobject.h:5:\n",
      "In file included from /Users/sebparkin/miniconda3/lib/python3.12/site-packages/numpy/_core/include/numpy/ndarrayobject.h:12:\n",
      "In file included from /Users/sebparkin/miniconda3/lib/python3.12/site-packages/numpy/_core/include/numpy/ndarraytypes.h:1909:\n",
      "/Users/sebparkin/miniconda3/lib/python3.12/site-packages/numpy/_core/include/numpy/npy_1_7_deprecated_api.h:17:2: warning: \"Using deprecated NumPy API, disable it with \"          \"#define NPY_NO_DEPRECATED_API NPY_1_7_API_VERSION\" [-W#warnings]\n",
      "   17 | #warning \"Using deprecated NumPy API, disable it with \" \\\n",
      "      |  ^\n",
      "1 warning generated.\n",
      "ld: warning: duplicate -rpath '/Users/sebparkin/miniconda3/lib' ignored\n"
     ]
    }
   ],
   "source": [
    "import LebwohlLasher_cython"
   ]
  },
  {
   "cell_type": "code",
   "execution_count": null,
   "metadata": {},
   "outputs": [],
   "source": []
  }
 ],
 "metadata": {
  "kernelspec": {
   "display_name": "base",
   "language": "python",
   "name": "python3"
  },
  "language_info": {
   "codemirror_mode": {
    "name": "ipython",
    "version": 3
   },
   "file_extension": ".py",
   "mimetype": "text/x-python",
   "name": "python",
   "nbconvert_exporter": "python",
   "pygments_lexer": "ipython3",
   "version": "3.12.2"
  }
 },
 "nbformat": 4,
 "nbformat_minor": 2
}
